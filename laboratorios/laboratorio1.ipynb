{
 "cells": [
  {
   "cell_type": "code",
   "execution_count": 2,
   "id": "00a9136c-023f-4221-8a00-1512f9faebf1",
   "metadata": {},
   "outputs": [
    {
     "name": "stdout",
     "output_type": "stream",
     "text": [
      "<class 'tuple'>\n"
     ]
    }
   ],
   "source": [
    "tup = (\"I\",)\n",
    "print(type(tup))"
   ]
  },
  {
   "cell_type": "code",
   "execution_count": 3,
   "id": "c6bfd2f1-0851-4180-81b0-c959f44446e0",
   "metadata": {},
   "outputs": [
    {
     "name": "stdout",
     "output_type": "stream",
     "text": [
      "('I', 'r', 'o', 'n', 'h', 'a', 'c', 'k')\n"
     ]
    }
   ],
   "source": [
    "tup = (\"I\",)\n",
    "lista = list(tup)\n",
    "\n",
    "# Agregar los elementos\n",
    "lista.extend([\"r\", \"o\", \"n\", \"h\", \"a\", \"c\", \"k\"])\n",
    "\n",
    "# Convertir de nuevo a tupla\n",
    "tup = tuple(lista)\n",
    "\n",
    "print(tup)"
   ]
  },
  {
   "cell_type": "code",
   "execution_count": 12,
   "id": "5ebbb5b2-22e7-45ad-a7a7-aceaaf5476c0",
   "metadata": {},
   "outputs": [
    {
     "name": "stdout",
     "output_type": "stream",
     "text": [
      "tup1: ('I', 'r', 'o', 'n')\n",
      "tup2: ('h', 'a', 'c', 'k')\n",
      "tup3: ('I', 'r', 'o', 'n', 'h', 'a', 'c', 'k')\n",
      "¿Es tup3 igual a tup? True\n",
      "4\n",
      "\n",
      "a: True\n",
      "b: False\n",
      "c: True\n",
      "d: False\n",
      "e: False\n",
      "\n",
      "a: 1\n",
      "b: 0\n",
      "c: 1\n",
      "d: 0\n",
      "e: 0\n",
      "\n"
     ]
    }
   ],
   "source": [
    "# ¿Qué tal si reasignas un nuevo valor a una tupla existente?\n",
    "\n",
    "#Reasignar un nuevo valor a una tupla existente es totalmente posible, ya que lo que estás modificando no es la tupla en sí, sino la variable que contiene la tupla. Las tuplas son inmutables, lo que significa que no puedes cambiar sus elementos, \n",
    "#pero puedes hacer que la variable que apuntaba a una tupla existente apunte a una nueva tupla.\"\"\"\n",
    "\n",
    "#Divide tup en tup1 y tup2 con 4 elementos en cada una.\n",
    "#tup1 debe ser (\"I\", \"r\", \"o\", \"n\") y tup2 debe ser (\"h\", \"a\", \"c\", \"k\").\n",
    "\n",
    "# Tupla original\n",
    "tup = (\"I\", \"r\", \"o\", \"n\", \"h\", \"a\", \"c\", \"k\")\n",
    "\n",
    "# Asignar los primeros 4 elementos a tup1 (índices positivos)\n",
    "tup1 = tup[:4]\n",
    "\n",
    "# Asignar los últimos 4 elementos a tup2 (índices negativos)\n",
    "tup2 = tup[-4:]\n",
    "\n",
    "# Imprimir los resultados\n",
    "print(\"tup1:\", tup1)  # Resultado: (\"I\", \"r\", \"o\", \"n\")\n",
    "print(\"tup2:\", tup2)  # Resultado: (\"h\", \"a\", \"c\", \"k\")\n",
    "\n",
    "# Suma tup1 y tup2 en tup3 usando el operador +.\n",
    "# Luego imprime tup3 y verifica si tup3 es igual a tup.\n",
    "\n",
    "\n",
    "# Sumar tup1 y tup2 en tup3\n",
    "tup3 = tup1 + tup2\n",
    "\n",
    "# Imprimir tup3\n",
    "print(\"tup3:\", tup3)\n",
    "\n",
    "# Verificar si tup3 es igual a tup\n",
    "tup = (\"I\", \"r\", \"o\", \"n\", \"h\", \"a\", \"c\", \"k\")\n",
    "print(\"¿Es tup3 igual a tup?\", tup3 == tup)\n",
    "\n",
    "# Obtener el índice de \"h\"\n",
    "indice_h = tup3.index(\"h\")\n",
    "print(indice_h)\n",
    "print() \n",
    "#Ahora, usa un bucle FOR para verificar si cada letra en la siguiente lista está presente en tup3:\n",
    "letters = [\"a\", \"b\", \"c\", \"d\", \"e\"]\n",
    "#Para cada letra que verifiques, imprime True si está presente en tup3, de lo contrario imprime False.\n",
    "\n",
    "#Sugerencia: solo necesitas hacer un bucle con letters. No necesitas hacer un bucle con tup3 porque hay un operador de Python in que puedes usar\n",
    "\n",
    "for let in letters:\n",
    "    if let in tup3:\n",
    "        print(f\"{let}: True\")\n",
    "    else:\n",
    "        print(f\"{let}: False\")\n",
    "print() \n",
    "# ¿Cuántas veces aparece cada letra de letters en tup3?\n",
    "# Imprime el número de ocurrencias de cada letra.\n",
    "\n",
    "for letra in letters:\n",
    "    ocurrencias = tup3.count(letra)\n",
    "    print(f\"{letra}: {ocurrencias}\")\n",
    "\n",
    "print() \n"
   ]
  },
  {
   "cell_type": "code",
   "execution_count": 19,
   "id": "9c3a29a4-8172-4077-8e6c-dfa9621762f1",
   "metadata": {},
   "outputs": [
    {
     "name": "stdout",
     "output_type": "stream",
     "text": [
      "[19, 70, 4, 40, 79, 97, 12, 91, 83, 54, 6, 56, 68, 22, 9, 32, 25, 43, 74, 52, 49, 47, 69, 100, 26, 24, 82, 16, 34, 55, 76, 59, 18, 64, 35, 21, 88, 8, 2, 48, 42, 96, 90, 67, 72, 89, 36, 84, 71, 20, 10, 17, 29, 93, 53, 44, 45, 95, 30, 7, 61, 46, 13, 63, 50, 5, 31, 87, 37, 81, 3, 58, 28, 65, 0, 99, 75, 1, 98, 33]\n",
      "\n",
      "La longitud de set1 es: 80\n",
      "¿La longitud sigue siendo 80? True\n",
      "\n",
      "[93, 7, 55, 45, 6, 74, 40, 85, 35, 28, 66, 100, 78, 4, 54, 51, 3, 55, 86, 47, 67, 50, 93, 26, 0, 21, 21, 54, 25, 81, 70, 44, 19, 40, 42, 15, 98, 39, 22, 40, 68, 55, 88, 70, 58, 64, 9, 1, 12, 62, 48, 47, 92, 94, 24, 20, 8, 35, 43, 70, 1, 96, 15, 11, 92, 95, 75, 19, 21, 24, 39, 36, 16, 12, 83, 93, 56, 94, 56, 39]\n",
      "\n",
      "57\n",
      "\n",
      "{2, 5, 10, 13, 17, 18, 29, 30, 31, 32, 33, 34, 37, 46, 49, 52, 53, 59, 61, 63, 65, 69, 71, 72, 76, 79, 82, 84, 87, 89, 90, 91, 97, 99}\n"
     ]
    }
   ],
   "source": [
    "# Desafío 2: Conjuntos\n",
    "#  crea una lista llamada sample_list_1 con 80 valores aleatorios.\n",
    "# Requisitos:\n",
    "\n",
    "#Cada valor es un entero entre 0 y 100.\n",
    "#Cada valor en la lista es único.\n",
    "#Imprime sample_list_1 para revisar sus valores.\n",
    "\n",
    "#Sugerencia: usa random.sample (referencia).\n",
    "\n",
    "import random\n",
    "sample_list_1 = random.sample(range(101), 80)\n",
    "\n",
    "# Imprimir la lista\n",
    "print(sample_list_1)\n",
    "print()\n",
    "# Convertir la lista en un conjunto\n",
    "set1 = set(sample_list_1)\n",
    "\n",
    "# Imprimir la longitud del conjunto\n",
    "print(\"La longitud de set1 es:\", len(set1))\n",
    "\n",
    "# Verificar si la longitud es 80\n",
    "print(\"¿La longitud sigue siendo 80?\", len(set1) == 80)\n",
    "print()\n",
    "\n",
    "# Crea otra lista llamada sample_list_2 con 80 valores aleatorios.\n",
    "#Requisitos:\n",
    "\n",
    "#Cada valor es un entero entre 0 y 100.\n",
    "#Los valores en la lista no tienen que ser únicos.\n",
    "#Sugerencia: Usa un bucle FOR.\n",
    "\n",
    "# Crear una lista vacía\n",
    "sample_list_2 = []\n",
    "\n",
    "# Usar un bucle for para agregar 80 valores aleatorios a la lista\n",
    "for _ in range(80):\n",
    "    sample_list_2.append(random.randint(0, 100))\n",
    "\n",
    "print(sample_list_2)\n",
    "print()\n",
    "\n",
    "#Convierte sample_list_2 en un conjunto llamado set2. Imprime la longitud del conjunto. ¿Su longitud sigue siendo 80?\n",
    "\n",
    "# Convertir sample_list_2 en un conjunto\n",
    "set2 = set(sample_list_2)\n",
    "print(len(set2))\n",
    "print()\n",
    "\n",
    "\n",
    "# Identifica los elementos presentes en set1 pero no en set2. Asigna los elementos a un nuevo conjunto llamado set3.\n",
    "\n",
    "# Identificar los elementos presentes en set1 pero no en set2\n",
    "#set3 = set1.difference(set2)\n",
    "set3 = set1 - set2\n",
    "print(set3)\n",
    "\n",
    "print()\n",
    "\n",
    "set4 = set2 - set1\n",
    "\n",
    "# Mostrar el nuevo conjunto\n",
    "print(set4)\n",
    "\n"
   ]
  },
  {
   "cell_type": "code",
   "execution_count": 25,
   "id": "5b316066-3c3f-4a50-b808-c02548fcdef2",
   "metadata": {},
   "outputs": [
    {
     "name": "stdout",
     "output_type": "stream",
     "text": [
      "len(set1) == len(set3) + len(set5): True\n",
      "len(set2) == len(set4) + len(set5): True\n"
     ]
    }
   ],
   "source": [
    "# Definir los conjuntos\n",
    "set1 = {1, 2, 3, 4, 5, 6, 7, 8, 9, 10}\n",
    "set2 = {5, 6, 7, 8, 9, 10, 11, 12, 13, 14}\n",
    "\n",
    "# Calcular los conjuntos set3, set4 y set5\n",
    "set3 = set1 - set2\n",
    "set4 = set2 - set1\n",
    "set5 = set1 & set2\n",
    "\n",
    "# Calcular las longitudes\n",
    "len_set1 = len(set1)\n",
    "len_set2 = len(set2)\n",
    "len_set3 = len(set3)\n",
    "len_set4 = len(set4)\n",
    "len_set5 = len(set5)\n",
    "\n",
    "# Verificar las relaciones\n",
    "relation1 = len_set1 == len_set3 + len_set5\n",
    "relation2 = len_set2 == len_set4 + len_set5\n",
    "\n",
    "# Imprimir los resultados\n",
    "print(f\"len(set1) == len(set3) + len(set5): {relation1}\")\n",
    "print(f\"len(set2) == len(set4) + len(set5): {relation2}\")\n"
   ]
  },
  {
   "cell_type": "code",
   "execution_count": null,
   "id": "03a659ed-1852-466e-ab24-f7fbf0d1bdce",
   "metadata": {},
   "outputs": [],
   "source": []
  }
 ],
 "metadata": {
  "kernelspec": {
   "display_name": "Python 3 (ipykernel)",
   "language": "python",
   "name": "python3"
  },
  "language_info": {
   "codemirror_mode": {
    "name": "ipython",
    "version": 3
   },
   "file_extension": ".py",
   "mimetype": "text/x-python",
   "name": "python",
   "nbconvert_exporter": "python",
   "pygments_lexer": "ipython3",
   "version": "3.10.12"
  }
 },
 "nbformat": 4,
 "nbformat_minor": 5
}
